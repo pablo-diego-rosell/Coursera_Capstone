{
    "nbformat_minor": 1, 
    "cells": [
        {
            "source": "## Capstone Project - The Battle of Neighborhoods\n\nCreated by Pablo Diego-Rosell, PhD\n\n### Introduction/Business Problem\n\nMy friends are planning a 3-day visit to New York City, and I would like to give them suggestions regarding the neighborhoods to visit each day, taking into account their individual preferences and the aggregate feedback from the Foursquare community. Besides helping my friends, this data science solution will help tour operators and other tourist-related businesses when designing tourist packages and providing advice to their clients. \n\n### Data\n\n1. I will first generate a neighborhood dataset along with their latitude and longitude values for a total of 5 boroughs and 306 neighborhoods. \n\n2. I will then leverage the Foursquare API to explore the neighborhoods and segment them according to the types of venues in each neighborhood. \n\n3. Next I will cluster the neighborhoods into an optimal number of clusters using the elbow method. \n\n4. For each resulting cluster, I will calculate the average user ratings for restaurants of the categories favoured by my friends, along with the top 5 rated restaurant. \n\n5. Finally, I will use the Folium library to visualize the neighborhoods in New York City and their emerging clusters. This visual exploration will allow me to generate a final recommended itinerary for each of the three days my friends. \n", 
            "cell_type": "markdown", 
            "metadata": {
                "collapsed": true
            }
        }, 
        {
            "execution_count": null, 
            "cell_type": "code", 
            "metadata": {}, 
            "outputs": [], 
            "source": ""
        }
    ], 
    "metadata": {
        "kernelspec": {
            "display_name": "Python 3.6", 
            "name": "python3", 
            "language": "python"
        }, 
        "language_info": {
            "mimetype": "text/x-python", 
            "nbconvert_exporter": "python", 
            "version": "3.6.8", 
            "name": "python", 
            "file_extension": ".py", 
            "pygments_lexer": "ipython3", 
            "codemirror_mode": {
                "version": 3, 
                "name": "ipython"
            }
        }
    }, 
    "nbformat": 4
}